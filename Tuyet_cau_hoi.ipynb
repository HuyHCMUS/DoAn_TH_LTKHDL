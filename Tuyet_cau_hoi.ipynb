{
 "cells": [
  {
   "attachments": {},
   "cell_type": "markdown",
   "id": "1d06a938",
   "metadata": {},
   "source": [
    "# Đặt câu hỏi"
   ]
  },
  {
   "attachments": {},
   "cell_type": "markdown",
   "id": "6b332e4e",
   "metadata": {},
   "source": [
    "Notebook này thực hiện việc phân tích và đặt câu hỏi, visualization."
   ]
  },
  {
   "cell_type": "markdown",
   "id": "9e1fcf20",
   "metadata": {},
   "source": [
    "## Import các thư viện cần thiết"
   ]
  },
  {
   "cell_type": "code",
   "execution_count": 59,
   "id": "534ad91b",
   "metadata": {},
   "outputs": [],
   "source": [
    "import pandas as pd\n",
    "import numpy as np\n",
    "from matplotlib import pyplot as plt"
   ]
  },
  {
   "cell_type": "markdown",
   "id": "1bd50913",
   "metadata": {},
   "source": [
    "## Đọc file dữ liệu"
   ]
  },
  {
   "cell_type": "markdown",
   "id": "d43af283",
   "metadata": {},
   "source": [
    "Dữ liệu của chúng ta được lưu trong file 'Anime.csv'. Chúng ta sẽ đọc dữ liệu và lưu vào DataFrame `data_df`"
   ]
  },
  {
   "cell_type": "code",
   "execution_count": 4,
   "id": "50f4b02f",
   "metadata": {},
   "outputs": [
    {
     "data": {
      "text/html": [
       "<div>\n",
       "<style scoped>\n",
       "    .dataframe tbody tr th:only-of-type {\n",
       "        vertical-align: middle;\n",
       "    }\n",
       "\n",
       "    .dataframe tbody tr th {\n",
       "        vertical-align: top;\n",
       "    }\n",
       "\n",
       "    .dataframe thead th {\n",
       "        text-align: right;\n",
       "    }\n",
       "</style>\n",
       "<table border=\"1\" class=\"dataframe\">\n",
       "  <thead>\n",
       "    <tr style=\"text-align: right;\">\n",
       "      <th></th>\n",
       "      <th>ID</th>\n",
       "      <th>Title</th>\n",
       "      <th>Synonyms</th>\n",
       "      <th>Japanese</th>\n",
       "      <th>English</th>\n",
       "      <th>Synopsis</th>\n",
       "      <th>Type</th>\n",
       "      <th>Episodes</th>\n",
       "      <th>Status</th>\n",
       "      <th>Start_Aired</th>\n",
       "      <th>...</th>\n",
       "      <th>Themes</th>\n",
       "      <th>Demographics</th>\n",
       "      <th>Duration_Minutes</th>\n",
       "      <th>Rating</th>\n",
       "      <th>Score</th>\n",
       "      <th>Scored_Users</th>\n",
       "      <th>Ranked</th>\n",
       "      <th>Popularity</th>\n",
       "      <th>Members</th>\n",
       "      <th>Favorites</th>\n",
       "    </tr>\n",
       "  </thead>\n",
       "  <tbody>\n",
       "    <tr>\n",
       "      <th>0</th>\n",
       "      <td>16498</td>\n",
       "      <td>Shingeki no Kyojin</td>\n",
       "      <td>AoT, SnK</td>\n",
       "      <td>進撃の巨人</td>\n",
       "      <td>Attack on Titan</td>\n",
       "      <td>Centuries ago, mankind was slaughtered to near...</td>\n",
       "      <td>TV</td>\n",
       "      <td>25.0</td>\n",
       "      <td>Finished Airing</td>\n",
       "      <td>2013-04-07</td>\n",
       "      <td>...</td>\n",
       "      <td>Gore, Military, Survival</td>\n",
       "      <td>Shounen</td>\n",
       "      <td>24.0</td>\n",
       "      <td>R - 17+ (violence &amp; profanity)</td>\n",
       "      <td>8.531</td>\n",
       "      <td>519803.0</td>\n",
       "      <td>1002.0</td>\n",
       "      <td>1</td>\n",
       "      <td>3524109</td>\n",
       "      <td>155695</td>\n",
       "    </tr>\n",
       "    <tr>\n",
       "      <th>1</th>\n",
       "      <td>1535</td>\n",
       "      <td>Death Note</td>\n",
       "      <td>DN</td>\n",
       "      <td>デスノート</td>\n",
       "      <td>Death Note</td>\n",
       "      <td>Brutal murders, petty thefts, and senseless vi...</td>\n",
       "      <td>TV</td>\n",
       "      <td>37.0</td>\n",
       "      <td>Finished Airing</td>\n",
       "      <td>2006-10-04</td>\n",
       "      <td>...</td>\n",
       "      <td>Psychological</td>\n",
       "      <td>Shounen</td>\n",
       "      <td>23.0</td>\n",
       "      <td>R - 17+ (violence &amp; profanity)</td>\n",
       "      <td>8.621</td>\n",
       "      <td>485487.0</td>\n",
       "      <td>732.0</td>\n",
       "      <td>2</td>\n",
       "      <td>3504535</td>\n",
       "      <td>159701</td>\n",
       "    </tr>\n",
       "    <tr>\n",
       "      <th>2</th>\n",
       "      <td>5114</td>\n",
       "      <td>Fullmetal Alchemist: Brotherhood</td>\n",
       "      <td>Hagane no Renkinjutsushi Fullmetal Alchemist, ...</td>\n",
       "      <td>鋼の錬金術師 FULLMETAL ALCHEMIST</td>\n",
       "      <td>Fullmetal Alchemist Brotherhood</td>\n",
       "      <td>After a horrific alchemy experiment goes wrong...</td>\n",
       "      <td>TV</td>\n",
       "      <td>64.0</td>\n",
       "      <td>Finished Airing</td>\n",
       "      <td>2009-04-05</td>\n",
       "      <td>...</td>\n",
       "      <td>Military</td>\n",
       "      <td>Shounen</td>\n",
       "      <td>24.0</td>\n",
       "      <td>R - 17+ (violence &amp; profanity)</td>\n",
       "      <td>9.131</td>\n",
       "      <td>900398.0</td>\n",
       "      <td>12.0</td>\n",
       "      <td>3</td>\n",
       "      <td>2978455</td>\n",
       "      <td>207772</td>\n",
       "    </tr>\n",
       "    <tr>\n",
       "      <th>3</th>\n",
       "      <td>30276</td>\n",
       "      <td>One Punch Man</td>\n",
       "      <td>One Punch-Man, One-Punch Man, OPM</td>\n",
       "      <td>ワンパンマン</td>\n",
       "      <td>One Punch Man</td>\n",
       "      <td>The seemingly unimpressive Saitama has a rathe...</td>\n",
       "      <td>TV</td>\n",
       "      <td>12.0</td>\n",
       "      <td>Finished Airing</td>\n",
       "      <td>2015-10-05</td>\n",
       "      <td>...</td>\n",
       "      <td>Parody, Super Power</td>\n",
       "      <td>Seinen</td>\n",
       "      <td>24.0</td>\n",
       "      <td>R - 17+ (violence &amp; profanity)</td>\n",
       "      <td>8.511</td>\n",
       "      <td>19066.0</td>\n",
       "      <td>1112.0</td>\n",
       "      <td>4</td>\n",
       "      <td>2879907</td>\n",
       "      <td>59651</td>\n",
       "    </tr>\n",
       "    <tr>\n",
       "      <th>4</th>\n",
       "      <td>11757</td>\n",
       "      <td>Sword Art Online</td>\n",
       "      <td>S.A.O, SAO</td>\n",
       "      <td>ソードアート・オンライン</td>\n",
       "      <td>Sword Art Online</td>\n",
       "      <td>Ever since the release of the innovative Nerve...</td>\n",
       "      <td>TV</td>\n",
       "      <td>25.0</td>\n",
       "      <td>Finished Airing</td>\n",
       "      <td>2012-07-08</td>\n",
       "      <td>...</td>\n",
       "      <td>Love Polygon, Video Game</td>\n",
       "      <td>Unknown</td>\n",
       "      <td>23.0</td>\n",
       "      <td>PG-13 - Teens 13 or older</td>\n",
       "      <td>7.201</td>\n",
       "      <td>990254.0</td>\n",
       "      <td>29562.0</td>\n",
       "      <td>5</td>\n",
       "      <td>2813565</td>\n",
       "      <td>64997</td>\n",
       "    </tr>\n",
       "  </tbody>\n",
       "</table>\n",
       "<p>5 rows × 28 columns</p>\n",
       "</div>"
      ],
      "text/plain": [
       "      ID                             Title  \\\n",
       "0  16498                Shingeki no Kyojin   \n",
       "1   1535                        Death Note   \n",
       "2   5114  Fullmetal Alchemist: Brotherhood   \n",
       "3  30276                     One Punch Man   \n",
       "4  11757                  Sword Art Online   \n",
       "\n",
       "                                            Synonyms  \\\n",
       "0                                           AoT, SnK   \n",
       "1                                                 DN   \n",
       "2  Hagane no Renkinjutsushi Fullmetal Alchemist, ...   \n",
       "3                  One Punch-Man, One-Punch Man, OPM   \n",
       "4                                         S.A.O, SAO   \n",
       "\n",
       "                     Japanese                          English  \\\n",
       "0                       進撃の巨人                  Attack on Titan   \n",
       "1                       デスノート                       Death Note   \n",
       "2  鋼の錬金術師 FULLMETAL ALCHEMIST  Fullmetal Alchemist Brotherhood   \n",
       "3                      ワンパンマン                    One Punch Man   \n",
       "4                ソードアート・オンライン                 Sword Art Online   \n",
       "\n",
       "                                            Synopsis Type  Episodes  \\\n",
       "0  Centuries ago, mankind was slaughtered to near...   TV      25.0   \n",
       "1  Brutal murders, petty thefts, and senseless vi...   TV      37.0   \n",
       "2  After a horrific alchemy experiment goes wrong...   TV      64.0   \n",
       "3  The seemingly unimpressive Saitama has a rathe...   TV      12.0   \n",
       "4  Ever since the release of the innovative Nerve...   TV      25.0   \n",
       "\n",
       "            Status Start_Aired  ...                    Themes Demographics  \\\n",
       "0  Finished Airing  2013-04-07  ...  Gore, Military, Survival      Shounen   \n",
       "1  Finished Airing  2006-10-04  ...             Psychological      Shounen   \n",
       "2  Finished Airing  2009-04-05  ...                  Military      Shounen   \n",
       "3  Finished Airing  2015-10-05  ...       Parody, Super Power       Seinen   \n",
       "4  Finished Airing  2012-07-08  ...  Love Polygon, Video Game      Unknown   \n",
       "\n",
       "  Duration_Minutes                          Rating  Score Scored_Users  \\\n",
       "0             24.0  R - 17+ (violence & profanity)  8.531     519803.0   \n",
       "1             23.0  R - 17+ (violence & profanity)  8.621     485487.0   \n",
       "2             24.0  R - 17+ (violence & profanity)  9.131     900398.0   \n",
       "3             24.0  R - 17+ (violence & profanity)  8.511      19066.0   \n",
       "4             23.0       PG-13 - Teens 13 or older  7.201     990254.0   \n",
       "\n",
       "    Ranked Popularity  Members Favorites  \n",
       "0   1002.0          1  3524109    155695  \n",
       "1    732.0          2  3504535    159701  \n",
       "2     12.0          3  2978455    207772  \n",
       "3   1112.0          4  2879907     59651  \n",
       "4  29562.0          5  2813565     64997  \n",
       "\n",
       "[5 rows x 28 columns]"
      ]
     },
     "execution_count": 4,
     "metadata": {},
     "output_type": "execute_result"
    }
   ],
   "source": [
    "data_df = pd.read_csv('anime_after_preproc.csv')\n",
    "data_df.head(5)"
   ]
  },
  {
   "cell_type": "markdown",
   "id": "ecd13dbf",
   "metadata": {},
   "source": [
    "Hiển thị 5 dòng đầu của dữ liệu để xem đọc đúng chưa"
   ]
  },
  {
   "attachments": {},
   "cell_type": "markdown",
   "id": "57fbf2b6",
   "metadata": {},
   "source": [
    "Câu hỏi 1: Trong các phim được thu thập, hình thức phim nào nhiều nhất, nhì,...?"
   ]
  },
  {
   "cell_type": "code",
   "execution_count": 101,
   "id": "d5edd240",
   "metadata": {},
   "outputs": [],
   "source": [
    "def draw_barh_chart(df, col1, col2, title, x_label, y_label, x_limit = None):\n",
    "    fig, ax = plt.subplots(figsize = (15, 6))\n",
    "    bars = ax.barh(df[::-1][col1], df[::-1][col2])\n",
    "    plt.title(title)\n",
    "    plt.xlabel(x_label)\n",
    "    plt.ylabel(y_label)\n",
    "    if x_limit is not None:\n",
    "        ax.set_xlim(x_limit)\n",
    "    plt.bar_label(bars);"
   ]
  },
  {
   "cell_type": "code",
   "execution_count": 106,
   "id": "3418dd76",
   "metadata": {},
   "outputs": [
    {
     "data": {
      "image/png": "[encoded data removed]",
      "text/plain": [
       "<Figure size 1080x432 with 1 Axes>"
      ]
     },
     "metadata": {
      "needs_background": "light"
     },
     "output_type": "display_data"
    }
   ],
   "source": [
    "data_df.Type = pd.Categorical(data_df['Type'], categories=['TV', 'OVA', 'Movie', 'ONA', 'Special', 'Music', 'Unknown'])\n",
    "type_count = data_df.value_counts('Type').rename('Quantity').reset_index()\n",
    "draw_barh_chart(type_count, 'Type', 'Quantity', 'Number of animes by Type', 'Quantity', 'Type')\n",
    "\n"
   ]
  },
  {
   "attachments": {},
   "cell_type": "markdown",
   "id": "01e52193",
   "metadata": {},
   "source": [
    "Như vậy, số lượng phim hoạt hình thuộc dạng TV chiếm nhiều nhất, tiếp theo là OVA và Movie. Các lý do có thể là:\n",
    "- TV là dạng dễ sản xuất.\n",
    "- TV là dạng được yêu thích nhất đối với người xem.\n",
    "- ...\n"
   ]
  },
  {
   "cell_type": "code",
   "execution_count": 111,
   "id": "968b08e4",
   "metadata": {},
   "outputs": [],
   "source": [
    "def weighted_avg(df, col1, col2):\n",
    "    df = df[~(df[col1].isnull() | df[col2].isnull())]\n",
    "    if len(df) == 0:\n",
    "        return np.NaN\n",
    "    return np.average(df[col1], weights = df[col2])"
   ]
  },
  {
   "cell_type": "code",
   "execution_count": 112,
   "id": "40779f8a",
   "metadata": {},
   "outputs": [
    {
     "data": {
      "image/png": "[encoded data removed]",
      "text/plain": [
       "<Figure size 1080x432 with 1 Axes>"
      ]
     },
     "metadata": {
      "needs_background": "light"
     },
     "output_type": "display_data"
    }
   ],
   "source": [
    "ratings_by_type = data_df.groupby('Type').apply(lambda x: weighted_avg(x, 'Score', 'Scored_Users')).rename('Score').reset_index()\n",
    "draw_barh_chart(ratings_by_type, 'Type', 'Score', \"Score by anime Type\", \"Score\", \"Type of anime\", (0, 10))"
   ]
  },
  {
   "attachments": {},
   "cell_type": "markdown",
   "id": "2399dbbc",
   "metadata": {},
   "source": [
    "Theo như hình vẽ, ta thấy Movie là dạng được người xem chấm điểm nhiều nhất. Tuy nhiên thì TV là dạng được chấm điểm cao thứ 2 và cách biệt điểm của TV và Movie cũng không nhiều lắm (khoảng 0.23 trên 10), nên cũng có thể khẳng định là người xem đánh giá các chương trình truyền hình hoạt hình có chất lượng tốt."
   ]
  },
  {
   "cell_type": "code",
   "execution_count": 114,
   "id": "03fbe5d1",
   "metadata": {},
   "outputs": [
    {
     "data": {
      "image/png": "[encoded data removed]",
      "text/plain": [
       "<Figure size 1080x432 with 1 Axes>"
      ]
     },
     "metadata": {
      "needs_background": "light"
     },
     "output_type": "display_data"
    }
   ],
   "source": [
    "favorites_by_type = data_df.groupby('Type').apply(lambda x: np.sum(x.Favorites) / len(x)).rename('Sum_Favorites').reset_index()\n",
    "draw_barh_chart(favorites_by_type, 'Type', 'Sum_Favorites', \"Sum favorites for each anime type\", \"Sum favorites\", \"Type of anime\")"
   ]
  },
  {
   "attachments": {},
   "cell_type": "markdown",
   "id": "f52d948e",
   "metadata": {},
   "source": [
    "Theo như hình vẽ, ta thấy TV là dạng có số lượt yêu thích trên tổng tất cả các phim cao nhất."
   ]
  },
  {
   "attachments": {},
   "cell_type": "markdown",
   "id": "8167aa03",
   "metadata": {},
   "source": [
    "heat map cho Premiered"
   ]
  }
 ],
 "metadata": {
  "kernelspec": {
   "display_name": "Python 3 (ipykernel)",
   "language": "python",
   "name": "python3"
  },
  "language_info": {
   "codemirror_mode": {
    "name": "ipython",
    "version": 3
   },
   "file_extension": ".py",
   "mimetype": "text/x-python",
   "name": "python",
   "nbconvert_exporter": "python",
   "pygments_lexer": "ipython3",
   "version": "3.10.4"
  },
  "vscode": {
   "interpreter": {
    "hash": "56fbc53aaaea2f4f947c33e8f2211e45bc3cff50d3ffdda799e956596f168355"
   }
  }
 },
 "nbformat": 4,
 "nbformat_minor": 5
}
